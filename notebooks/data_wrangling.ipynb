{
 "cells": [
  {
   "cell_type": "markdown",
   "id": "c462683b-787c-41a2-a74a-d7277e1e478d",
   "metadata": {},
   "source": [
    "# Step 1. Data Wrangling\n",
    "---\n",
    "\n",
    "### - Cleaning\n",
    "### - Transforming\n",
    "### - and Enriching the dateset\n",
    "---"
   ]
  },
  {
   "cell_type": "markdown",
   "id": "4f513355-d9cf-41f3-b6aa-d5420b6a59d3",
   "metadata": {
    "jp-MarkdownHeadingCollapsed": true
   },
   "source": [
    "- Create Virtual Environment to manage dependencies\n",
    "- Activate the venv in terminal\n",
    "- Add the venv as a kernel to Jupyter Lab & select it\n",
    "- Install and manage dependencies in this venv"
   ]
  },
  {
   "cell_type": "code",
   "execution_count": 1,
   "id": "efcb2826-8530-40e5-b8ad-8e36c979fa9c",
   "metadata": {
    "scrolled": true
   },
   "outputs": [],
   "source": [
    "#!pip install pandas numpy re"
   ]
  },
  {
   "cell_type": "markdown",
   "id": "ab35f8e1-4b1b-42e3-be87-b1c85998692e",
   "metadata": {},
   "source": [
    "- Import Necessary Modules "
   ]
  },
  {
   "cell_type": "code",
   "execution_count": 2,
   "id": "b7c506fb-a62d-401f-81c5-0cc39e23db87",
   "metadata": {},
   "outputs": [],
   "source": [
    "import pandas as pd\n",
    "import numpy as np\n",
    "import re"
   ]
  },
  {
   "cell_type": "markdown",
   "id": "57af8667-f622-47d0-9e68-5cd77d0db868",
   "metadata": {},
   "source": [
    "- Set Some Optional Pandas Settings (Optional: Not Necessary)"
   ]
  },
  {
   "cell_type": "code",
   "execution_count": 3,
   "id": "c9082831-9b53-4b01-bd2f-364a899a6e5f",
   "metadata": {},
   "outputs": [],
   "source": [
    "pd.set_option('display.max_columns', None)\n",
    "pd.set_option('display.max_rows', 100)"
   ]
  },
  {
   "cell_type": "markdown",
   "id": "08c9cfb3-b4d6-4502-82e3-be3b88849650",
   "metadata": {},
   "source": [
    "- Load Dataset as Pandas DataFrame"
   ]
  },
  {
   "cell_type": "code",
   "execution_count": 4,
   "id": "bd485525-bb23-43b8-b72e-0c40eb513684",
   "metadata": {
    "scrolled": true
   },
   "outputs": [
    {
     "name": "stdout",
     "output_type": "stream",
     "text": [
      "Initial shape: (3114, 8)\n"
     ]
    },
    {
     "data": {
      "text/html": [
       "<div>\n",
       "<style scoped>\n",
       "    .dataframe tbody tr th:only-of-type {\n",
       "        vertical-align: middle;\n",
       "    }\n",
       "\n",
       "    .dataframe tbody tr th {\n",
       "        vertical-align: top;\n",
       "    }\n",
       "\n",
       "    .dataframe thead th {\n",
       "        text-align: right;\n",
       "    }\n",
       "</style>\n",
       "<table border=\"1\" class=\"dataframe\">\n",
       "  <thead>\n",
       "    <tr style=\"text-align: right;\">\n",
       "      <th></th>\n",
       "      <th>Brand</th>\n",
       "      <th>Model</th>\n",
       "      <th>Color</th>\n",
       "      <th>Memory</th>\n",
       "      <th>Storage</th>\n",
       "      <th>Rating</th>\n",
       "      <th>Selling Price</th>\n",
       "      <th>Original Price</th>\n",
       "    </tr>\n",
       "  </thead>\n",
       "  <tbody>\n",
       "    <tr>\n",
       "      <th>0</th>\n",
       "      <td>OPPO</td>\n",
       "      <td>A53</td>\n",
       "      <td>Moonlight Black</td>\n",
       "      <td>4 GB</td>\n",
       "      <td>64 GB</td>\n",
       "      <td>4.5</td>\n",
       "      <td>11990</td>\n",
       "      <td>15990</td>\n",
       "    </tr>\n",
       "    <tr>\n",
       "      <th>1</th>\n",
       "      <td>OPPO</td>\n",
       "      <td>A53</td>\n",
       "      <td>Mint Cream</td>\n",
       "      <td>4 GB</td>\n",
       "      <td>64 GB</td>\n",
       "      <td>4.5</td>\n",
       "      <td>11990</td>\n",
       "      <td>15990</td>\n",
       "    </tr>\n",
       "    <tr>\n",
       "      <th>2</th>\n",
       "      <td>OPPO</td>\n",
       "      <td>A53</td>\n",
       "      <td>Moonlight Black</td>\n",
       "      <td>6 GB</td>\n",
       "      <td>128 GB</td>\n",
       "      <td>4.3</td>\n",
       "      <td>13990</td>\n",
       "      <td>17990</td>\n",
       "    </tr>\n",
       "    <tr>\n",
       "      <th>3</th>\n",
       "      <td>OPPO</td>\n",
       "      <td>A53</td>\n",
       "      <td>Mint Cream</td>\n",
       "      <td>6 GB</td>\n",
       "      <td>128 GB</td>\n",
       "      <td>4.3</td>\n",
       "      <td>13990</td>\n",
       "      <td>17990</td>\n",
       "    </tr>\n",
       "    <tr>\n",
       "      <th>4</th>\n",
       "      <td>OPPO</td>\n",
       "      <td>A53</td>\n",
       "      <td>Electric Black</td>\n",
       "      <td>4 GB</td>\n",
       "      <td>64 GB</td>\n",
       "      <td>4.5</td>\n",
       "      <td>11990</td>\n",
       "      <td>15990</td>\n",
       "    </tr>\n",
       "  </tbody>\n",
       "</table>\n",
       "</div>"
      ],
      "text/plain": [
       "  Brand Model            Color Memory Storage  Rating  Selling Price  \\\n",
       "0  OPPO   A53  Moonlight Black   4 GB   64 GB     4.5          11990   \n",
       "1  OPPO   A53       Mint Cream   4 GB   64 GB     4.5          11990   \n",
       "2  OPPO   A53  Moonlight Black   6 GB  128 GB     4.3          13990   \n",
       "3  OPPO   A53       Mint Cream   6 GB  128 GB     4.3          13990   \n",
       "4  OPPO   A53   Electric Black   4 GB   64 GB     4.5          11990   \n",
       "\n",
       "   Original Price  \n",
       "0           15990  \n",
       "1           15990  \n",
       "2           17990  \n",
       "3           17990  \n",
       "4           15990  "
      ]
     },
     "execution_count": 4,
     "metadata": {},
     "output_type": "execute_result"
    }
   ],
   "source": [
    "file_path = \"Flipkart data/Flipkart_Mobiles.csv\"\n",
    "df = pd.read_csv(file_path)\n",
    "\n",
    "print(f\"Initial shape: {df.shape}\")\n",
    "df.head()"
   ]
  },
  {
   "cell_type": "markdown",
   "id": "6ae4daea-8785-4c63-9136-c2ededce5bed",
   "metadata": {},
   "source": [
    "- Check Column Datatypes in loaded Dataset (Can change at initial load if needed)"
   ]
  },
  {
   "cell_type": "code",
   "execution_count": 5,
   "id": "d3fb5a2d-12b1-4ca0-b010-82af1e0fa9c8",
   "metadata": {},
   "outputs": [
    {
     "data": {
      "text/plain": [
       "Brand              object\n",
       "Model              object\n",
       "Color              object\n",
       "Memory             object\n",
       "Storage            object\n",
       "Rating            float64\n",
       "Selling Price       int64\n",
       "Original Price      int64\n",
       "dtype: object"
      ]
     },
     "execution_count": 5,
     "metadata": {},
     "output_type": "execute_result"
    }
   ],
   "source": [
    "df.dtypes"
   ]
  },
  {
   "cell_type": "markdown",
   "id": "6ae67486-d5cb-49a1-9022-1f75955af866",
   "metadata": {},
   "source": [
    "- Standardize Column Names"
   ]
  },
  {
   "cell_type": "code",
   "execution_count": 6,
   "id": "8d49de5d-184c-4eb2-abd9-ab04316e592d",
   "metadata": {},
   "outputs": [
    {
     "data": {
      "text/plain": [
       "Index(['brand', 'model', 'color', 'memory', 'storage', 'rating',\n",
       "       'selling_price', 'original_price'],\n",
       "      dtype='object')"
      ]
     },
     "execution_count": 6,
     "metadata": {},
     "output_type": "execute_result"
    }
   ],
   "source": [
    "df.columns = (\n",
    "    df.columns\n",
    "    .str.strip()\n",
    "    .str.lower()\n",
    "    .str.replace(\" \", \"_\")\n",
    "    .str.replace(r\"[^\\w\\s]\", \"\", regex=True)\n",
    ")\n",
    "df.columns"
   ]
  },
  {
   "cell_type": "markdown",
   "id": "1d446a95-3382-48e5-9ba6-b57a7748e729",
   "metadata": {},
   "source": [
    "- Check Null Values & Drop Duplicate rows if any"
   ]
  },
  {
   "cell_type": "code",
   "execution_count": 7,
   "id": "83ddbcad-1d0c-4b5b-98ee-f68d70ca9a7f",
   "metadata": {},
   "outputs": [
    {
     "name": "stdout",
     "output_type": "stream",
     "text": [
      "Null Values:\n",
      "------------\n",
      "brand               0\n",
      "model               0\n",
      "color               0\n",
      "memory             43\n",
      "storage            39\n",
      "rating            144\n",
      "selling_price       0\n",
      "original_price      0\n",
      "dtype: int64\n",
      "\n",
      "Duplicate Rows:\n",
      "------------\n",
      "108\n"
     ]
    }
   ],
   "source": [
    "print(\"Null Values:\\n\",end='------------\\n')\n",
    "print(df.isnull().sum(),end = '\\n'*2)\n",
    "print(\"Duplicate Rows:\\n\",end='------------\\n')\n",
    "print(df.duplicated().sum())"
   ]
  },
  {
   "cell_type": "markdown",
   "id": "49f8b648-bd59-404e-b999-898117bc146c",
   "metadata": {},
   "source": [
    "- Drop duplicate rows if any"
   ]
  },
  {
   "cell_type": "code",
   "execution_count": 8,
   "id": "678c1585-d0e1-4ecd-bd9f-bcdd5f17c57e",
   "metadata": {},
   "outputs": [
    {
     "name": "stdout",
     "output_type": "stream",
     "text": [
      "DataFrame shape after duplicates dropped: (3006, 8)\n"
     ]
    }
   ],
   "source": [
    "df.drop_duplicates(inplace=True)\n",
    "print(f\"DataFrame shape after duplicates dropped: {df.shape}\")"
   ]
  },
  {
   "cell_type": "markdown",
   "id": "e9e04b5b-4dbd-44a9-af88-c79d9e1e5aa3",
   "metadata": {},
   "source": [
    "- Utility function to replace Null/ NaN Values to nan for consistency"
   ]
  },
  {
   "cell_type": "code",
   "execution_count": 9,
   "id": "0772dde7-3042-4a86-9713-a6adfc5d9e44",
   "metadata": {},
   "outputs": [],
   "source": [
    "def to_nan(value):\n",
    "    null_values = ['', 'null', 'none', 'n/a', '-', 'unknown']\n",
    "    if pd.isnull(value) or str(value).strip().lower() in null_values:\n",
    "        return np.nan\n",
    "    return value"
   ]
  },
  {
   "cell_type": "markdown",
   "id": "004d36f9-295f-4f44-813f-fdc6d6baf484",
   "metadata": {},
   "source": [
    "- Utility function to standardize Storage & Memory Columns"
   ]
  },
  {
   "cell_type": "code",
   "execution_count": 10,
   "id": "b97ff413-87f7-45b8-ad97-6a9108858393",
   "metadata": {},
   "outputs": [],
   "source": [
    "def extract_storage_to_mb(value):\n",
    "    val_str = str(value).upper()\n",
    "    match = re.search(r'(\\d+\\.?\\d*)\\s*(GB|MB)', val_str)\n",
    "    if match:\n",
    "        num = float(match.group(1))\n",
    "        unit = match.group(2)\n",
    "        if unit == 'GB':\n",
    "            return num * 1024  # Convert GB to MB\n",
    "        else:\n",
    "            return num  # Already in MB\n",
    "    else:\n",
    "        return np.nan"
   ]
  },
  {
   "cell_type": "markdown",
   "id": "a78e17af-3a91-496e-9a16-46000b11f79e",
   "metadata": {},
   "source": [
    "- Apply Utility functions to concerned columns"
   ]
  },
  {
   "cell_type": "code",
   "execution_count": 11,
   "id": "83cd67f5-31de-494b-8a96-49498dc0ffea",
   "metadata": {},
   "outputs": [],
   "source": [
    "df['rating'] = df['rating'].apply(to_nan)\n",
    "df['memory'] = df['memory'].apply(to_nan)\n",
    "df['storage'] = df['storage'].apply(to_nan)"
   ]
  },
  {
   "cell_type": "code",
   "execution_count": 12,
   "id": "099adc59-cb66-44fb-b6ea-53ff1ef2cfa4",
   "metadata": {},
   "outputs": [],
   "source": [
    "df['memory'] = df['memory'].apply(extract_storage_to_mb)\n",
    "df['storage'] = df['storage'].apply(extract_storage_to_mb)"
   ]
  },
  {
   "cell_type": "markdown",
   "id": "68775ae7-a9a1-4c76-a90f-d983d8f63be7",
   "metadata": {},
   "source": [
    "- Check data distribution & drop any columns where critical information is missng\n",
    "- Negative Selling price is present"
   ]
  },
  {
   "cell_type": "code",
   "execution_count": 13,
   "id": "5a7edd1b-0512-4862-9576-d987fa430802",
   "metadata": {},
   "outputs": [
    {
     "name": "stdout",
     "output_type": "stream",
     "text": [
      "             memory        storage       rating  selling_price  original_price\n",
      "count   2966.000000    2953.000000  2876.000000    3006.000000     3006.000000\n",
      "mean    4251.249157   88401.518794     4.236057   25842.448436    27722.581504\n",
      "std     2577.310311   92888.967595     0.270684   29658.810517    31117.486618\n",
      "min        2.000000       2.000000     2.300000    1000.000000     1000.000000\n",
      "25%     2048.000000   32768.000000     4.100000    9978.500000    10000.000000\n",
      "50%     4096.000000   65536.000000     4.300000   14999.000000    15999.000000\n",
      "75%     6144.000000  131072.000000     4.400000   27499.000000    29999.000000\n",
      "max    32768.000000  524288.000000     5.000000  179900.000000   189999.000000\n"
     ]
    }
   ],
   "source": [
    "print(df.describe())\n",
    "\n",
    "df.dropna(subset=['brand', 'model', 'selling_price', 'original_price'], inplace=True)\n",
    "df = df[df['selling_price'] > 0]"
   ]
  },
  {
   "cell_type": "markdown",
   "id": "f40c36b6-6ebc-4a6a-b9e9-a07575222e0a",
   "metadata": {},
   "source": [
    "- Create derived columns for better data interpretation"
   ]
  },
  {
   "cell_type": "code",
   "execution_count": 14,
   "id": "877f1cc7-4a64-4f2f-8fb4-517d90663828",
   "metadata": {},
   "outputs": [],
   "source": [
    "df['discount_amount'] = df['original_price'] - df['selling_price']\n",
    "df['discount_percent'] = ((df['discount_amount'] / df['original_price']) * 100).round(2)\n",
    "\n",
    "df['discount_percent'] = df['discount_percent'].clip(0, 100)\n",
    "\n",
    "df['brand'] = df['brand'].str.title()\n",
    "df['model'] = df['model'].str.upper().str.strip()"
   ]
  },
  {
   "cell_type": "markdown",
   "id": "51183bbd-eb1c-4f5a-996b-7cddec516460",
   "metadata": {},
   "source": [
    "- Segregate Selling prices into different buckets based on percentile"
   ]
  },
  {
   "cell_type": "code",
   "execution_count": 15,
   "id": "142ed6b0-0d2a-4846-98df-a503de0b19cd",
   "metadata": {},
   "outputs": [],
   "source": [
    "price_percentiles = np.percentile(df['selling_price'], [0, 20, 40, 60, 80, 100])\n",
    "labels = ['Entry', 'Budget', 'Mid-Range', 'Premium', 'Flagship']\n",
    "\n",
    "df['price_segment'] = pd.cut(df['selling_price'], bins=price_percentiles, labels=labels, include_lowest=True)"
   ]
  },
  {
   "cell_type": "markdown",
   "id": "8638a142-6d97-4ed2-b23f-ec0a801e44aa",
   "metadata": {},
   "source": [
    "- Saving percentile Bins to a seperate CSV"
   ]
  },
  {
   "cell_type": "code",
   "execution_count": 20,
   "id": "c8cb341f-bc99-4a13-9f03-16649bde66c4",
   "metadata": {},
   "outputs": [],
   "source": [
    "price_seg_limits = pd.DataFrame({\n",
    "    'Segment': labels,\n",
    "    'Upper Limit': price_percentiles[1:].astype(int)\n",
    "})\n",
    "\n",
    "# Save to CSV\n",
    "price_seg_limits.to_csv(\"price_segment_limits.csv\", index=False)"
   ]
  },
  {
   "cell_type": "markdown",
   "id": "c81a9ae2-42e0-44fb-ae51-f5f9a65513a2",
   "metadata": {},
   "source": [
    "- Final Descriptive summary of data before save"
   ]
  },
  {
   "cell_type": "code",
   "execution_count": 17,
   "id": "450e9dd1-fdad-4762-9f1c-f5d0b127ead1",
   "metadata": {
    "scrolled": true
   },
   "outputs": [
    {
     "name": "stdout",
     "output_type": "stream",
     "text": [
      "Price Segments:\n",
      "------------\n",
      "price_segment\n",
      "Mid-Range    633\n",
      "Entry        602\n",
      "Budget       601\n",
      "Flagship     595\n",
      "Premium      575\n",
      "Name: count, dtype: int64\n",
      "\n",
      "Brands:\n",
      "------------\n",
      "brand\n",
      "Samsung         704\n",
      "Apple           324\n",
      "Realme          322\n",
      "Oppo            257\n",
      "Nokia           199\n",
      "Xiaomi          198\n",
      "Infinix         150\n",
      "Gionee          128\n",
      "Vivo            124\n",
      "Asus            117\n",
      "Lenovo          117\n",
      "Motorola        104\n",
      "Lg               99\n",
      "Poco             74\n",
      "Htc              55\n",
      "Google Pixel     29\n",
      "Iqoo              5\n",
      "Name: count, dtype: int64\n",
      "\n",
      "Memory options:\n",
      "------------\n",
      "memory\n",
      "2.0          2\n",
      "4.0         39\n",
      "8.0         10\n",
      "10.0         3\n",
      "16.0        15\n",
      "30.0         1\n",
      "32.0        14\n",
      "46.0         2\n",
      "64.0        14\n",
      "100.0        1\n",
      "128.0        4\n",
      "153.0        1\n",
      "512.0       46\n",
      "768.0        6\n",
      "1024.0     191\n",
      "1536.0      29\n",
      "2048.0     365\n",
      "3072.0     477\n",
      "4096.0     849\n",
      "6144.0     492\n",
      "8192.0     340\n",
      "12288.0     60\n",
      "16384.0      2\n",
      "18432.0      2\n",
      "32768.0      1\n",
      "Name: count, dtype: int64\n",
      "\n",
      "Storage options:\n",
      "------------\n",
      "storage\n",
      "2.0          43\n",
      "4.0          28\n",
      "8.0           5\n",
      "10.0          1\n",
      "16.0         10\n",
      "48.0          3\n",
      "64.0          3\n",
      "100.0         2\n",
      "128.0        11\n",
      "140.0         1\n",
      "153.0         1\n",
      "256.0         3\n",
      "512.0         2\n",
      "4096.0       56\n",
      "8192.0      133\n",
      "16384.0     324\n",
      "32768.0     550\n",
      "65536.0     751\n",
      "131072.0    741\n",
      "132096.0      3\n",
      "133120.0      2\n",
      "262144.0    219\n",
      "524288.0     61\n",
      "Name: count, dtype: int64\n"
     ]
    }
   ],
   "source": [
    "print(\"Price Segments:\\n\",end='------------\\n')\n",
    "print(df['price_segment'].value_counts())\n",
    "\n",
    "print(\"\\nBrands:\\n\", end='------------\\n')\n",
    "print(df['brand'].value_counts())\n",
    "\n",
    "print(\"\\nMemory options:\\n\",end='------------\\n')\n",
    "print(df['memory'].value_counts().sort_index())\n",
    "\n",
    "print(\"\\nStorage options:\\n\", end='------------\\n')\n",
    "print(df['storage'].value_counts().sort_index())\n"
   ]
  },
  {
   "cell_type": "code",
   "execution_count": 18,
   "id": "720bb03f-8a29-4599-bb8e-4396df50cbc2",
   "metadata": {},
   "outputs": [
    {
     "name": "stdout",
     "output_type": "stream",
     "text": [
      "Cleaned data saved.\n"
     ]
    }
   ],
   "source": [
    "df.to_csv(\"cleaned_mobile_data.csv\", index=False)\n",
    "print(\"Cleaned data saved.\")"
   ]
  },
  {
   "cell_type": "markdown",
   "id": "541ceb6f-24b6-4997-bbb3-9a2dcef7e383",
   "metadata": {},
   "source": [
    "- Combo Summary using pivot"
   ]
  },
  {
   "cell_type": "code",
   "execution_count": 19,
   "id": "d05802eb-becd-4239-b363-2f1c31b91b91",
   "metadata": {},
   "outputs": [],
   "source": [
    "combo_summary = df.pivot_table(\n",
    "    index=['brand', 'model'],\n",
    "    values='selling_price',\n",
    "    aggfunc=['count', 'mean']\n",
    ").reset_index()\n",
    "\n",
    "combo_summary.columns = ['brand', 'model', 'num_variants', 'avg_price']\n",
    "combo_summary.to_csv(\"brand_model_summary.csv\", index=False)"
   ]
  }
 ],
 "metadata": {
  "kernelspec": {
   "display_name": "Python (myenv)",
   "language": "python",
   "name": "myenv"
  },
  "language_info": {
   "codemirror_mode": {
    "name": "ipython",
    "version": 3
   },
   "file_extension": ".py",
   "mimetype": "text/x-python",
   "name": "python",
   "nbconvert_exporter": "python",
   "pygments_lexer": "ipython3",
   "version": "3.13.3"
  }
 },
 "nbformat": 4,
 "nbformat_minor": 5
}
